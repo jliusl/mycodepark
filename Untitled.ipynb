{
 "cells": [
  {
   "cell_type": "code",
   "execution_count": 1,
   "id": "ed054222-24aa-432e-b49e-bf02ce21800c",
   "metadata": {},
   "outputs": [
    {
     "name": "stdout",
     "output_type": "stream",
     "text": [
      "hello\n"
     ]
    }
   ],
   "source": [
    "print(\"hello\")"
   ]
  },
  {
   "cell_type": "code",
   "execution_count": 2,
   "id": "020c6855-7aae-4cd0-b313-c49444ef5989",
   "metadata": {},
   "outputs": [],
   "source": [
    "import multiprocessing"
   ]
  },
  {
   "cell_type": "code",
   "execution_count": 3,
   "id": "82b31249-ea38-4b7a-86e2-319e4e48fd44",
   "metadata": {},
   "outputs": [
    {
     "data": {
      "text/plain": [
       "'C:\\\\Users\\\\liang\\\\codepark'"
      ]
     },
     "execution_count": 3,
     "metadata": {},
     "output_type": "execute_result"
    }
   ],
   "source": [
    "%pwd"
   ]
  },
  {
   "cell_type": "code",
   "execution_count": 4,
   "id": "45a92000-b0e9-423f-b030-cc8d5a915403",
   "metadata": {},
   "outputs": [
    {
     "name": "stdout",
     "output_type": "stream",
     "text": [
      " 驱动器 C 中的卷是 Local Disk\n",
      " 卷的序列号是 182F-3667\n",
      "\n",
      " C:\\Users\\liang\\codepark 的目录\n",
      "\n",
      "2025/08/08  15:07    <DIR>          .\n",
      "2025/08/08  15:04    <DIR>          ..\n",
      "2025/08/08  15:05    <DIR>          .ipynb_checkpoints\n",
      "2025/04/29  18:55    <DIR>          .pytest_cache\n",
      "2025/07/30  14:14    <DIR>          .vscode\n",
      "2025/08/07  10:32    <DIR>          python\n",
      "2025/08/08  15:07             1,477 Untitled.ipynb\n",
      "               1 个文件          1,477 字节\n",
      "               6 个目录 341,542,342,656 可用字节\n"
     ]
    }
   ],
   "source": [
    "%ls"
   ]
  },
  {
   "cell_type": "code",
   "execution_count": 5,
   "id": "a9f96ed7-7871-42f3-99c5-1b3e438a2c1a",
   "metadata": {},
   "outputs": [],
   "source": [
    "import numpy as np\n",
    "import pandas as pd\n",
    "import matplotlib as mlt"
   ]
  },
  {
   "cell_type": "code",
   "execution_count": 6,
   "id": "0b68c53a-e1cc-4785-96e0-8d0fdd7f0c57",
   "metadata": {},
   "outputs": [],
   "source": [
    "import matplotlib as plt"
   ]
  },
  {
   "cell_type": "code",
   "execution_count": 7,
   "id": "34017469-fe3f-4567-a754-480b514d3823",
   "metadata": {},
   "outputs": [],
   "source": [
    "array1 = np.ndarray([1, 2, 3, 4, 5])"
   ]
  },
  {
   "cell_type": "code",
   "execution_count": 8,
   "id": "be2f1b44-a813-4a4e-8d15-80ce20513b29",
   "metadata": {},
   "outputs": [
    {
     "data": {
      "text/plain": [
       "array([[[[[4.94065646e-324, 6.95170362e-310, 4.57010722e-321,\n",
       "                       nan, 4.94065646e-322],\n",
       "          [1.88016150e+219, 1.03878551e-013, 6.94109513e+228,\n",
       "           2.42885919e-154, 7.21877134e+159],\n",
       "          [2.88980647e+204, 7.20535013e+159, 1.01820906e+277,\n",
       "           6.18960067e+223, 5.29339474e+180],\n",
       "          [3.64460929e-086, 2.04748216e+161, 7.68517982e+170,\n",
       "           2.58634777e+161, 3.06295190e+262]],\n",
       "\n",
       "         [[4.83245960e+276, 1.12619860e-153, 5.38928698e+005,\n",
       "           1.05836285e-153, 2.19527491e-152],\n",
       "          [1.67501583e+243, 6.01114961e+175, 2.38954667e+180,\n",
       "           2.58634340e+161, 2.95106935e-260],\n",
       "          [1.54235981e+256, 2.02763010e+174, 2.87244893e+161,\n",
       "           4.45488994e-091, 4.47593816e-091],\n",
       "          [4.47593816e-091, 4.47593816e-091, 2.91811653e+257,\n",
       "           4.82406564e+228, 3.14634368e+161]],\n",
       "\n",
       "         [[2.45126335e+198, 4.19337200e+228, 9.47751161e+170,\n",
       "           2.31554970e-152, 4.23275990e+175],\n",
       "          [2.34953944e+251, 8.01215523e-095, 6.89262982e+212,\n",
       "           2.87504676e+161, 4.70103241e+180],\n",
       "          [1.27617599e-152, 7.10574530e+159, 3.68065909e+180,\n",
       "           4.36632826e+154, 2.72882338e+079],\n",
       "          [2.30515923e+161, 5.08101054e+233, 3.65881473e+233,\n",
       "           2.65860955e+151, 1.27328776e-152]]],\n",
       "\n",
       "\n",
       "        [[[6.19636951e+223, 1.67626368e+243, 1.27734658e-152,\n",
       "           7.35876461e+223, 1.69375696e+190],\n",
       "          [1.49457388e+195, 5.08101054e+233, 1.16567693e+253,\n",
       "           4.36734576e-008, 7.21898586e+159],\n",
       "          [1.21696543e-152, 3.59021703e+246, 5.83439506e+252,\n",
       "           5.52108235e+169, 4.82407712e+228],\n",
       "          [7.26606627e+223, 4.44389806e+252, 2.30294038e+161,\n",
       "           7.48552587e+247, 4.72093047e+164]],\n",
       "\n",
       "         [[1.67494830e+243, 1.14199226e+243, 5.54201479e+257,\n",
       "           3.48412502e-245, 2.02762986e+174],\n",
       "          [1.69375610e+190, 3.68777421e+180, 3.81999124e+180,\n",
       "           4.66352538e+223, 1.69598309e+161],\n",
       "          [2.45650334e+198, 1.21698092e-152, 3.52489298e+156,\n",
       "           2.42870934e-154, 3.65284508e+233],\n",
       "          [3.65881463e+233, 6.01569643e-244, 1.27640986e-152,\n",
       "           1.42608925e+248, 6.01718273e+175]],\n",
       "\n",
       "         [[4.71980631e+164, 1.27664579e-152, 9.03091908e-090,\n",
       "           1.41739266e+190, 2.95106904e-260],\n",
       "          [2.87903286e-152, 5.98131475e-154, 2.17237845e-153,\n",
       "           7.45189625e-246, 3.17095857e+180],\n",
       "          [4.40355000e+198, 3.52683969e+233, 4.45197005e+252,\n",
       "           1.01080092e+261, 3.32229873e+257],\n",
       "          [5.11969952e+246, 8.82893862e+199, 2.95106904e-260,\n",
       "           3.12846888e+180, 7.27037970e+228]]]]])"
      ]
     },
     "execution_count": 8,
     "metadata": {},
     "output_type": "execute_result"
    }
   ],
   "source": [
    "array1"
   ]
  },
  {
   "cell_type": "code",
   "execution_count": 9,
   "id": "827a5b2a-bc6b-42dd-93b6-a9865740018f",
   "metadata": {},
   "outputs": [],
   "source": [
    "array2 = np.array([4,5,6,7,8])"
   ]
  },
  {
   "cell_type": "code",
   "execution_count": 10,
   "id": "94c2fb43-3f38-4b9b-8e96-aafc33df010e",
   "metadata": {},
   "outputs": [
    {
     "data": {
      "text/plain": [
       "array([4, 5, 6, 7, 8])"
      ]
     },
     "execution_count": 10,
     "metadata": {},
     "output_type": "execute_result"
    }
   ],
   "source": [
    "array2"
   ]
  },
  {
   "cell_type": "code",
   "execution_count": 11,
   "id": "aba1d5c9-1d59-4ced-b10d-bf012ff08a39",
   "metadata": {},
   "outputs": [
    {
     "data": {
      "text/plain": [
       "array([[1, 2, 3],\n",
       "       [4, 5, 6]])"
      ]
     },
     "execution_count": 11,
     "metadata": {},
     "output_type": "execute_result"
    }
   ],
   "source": [
    "array2 = np.array([[1, 2, 3], [4, 5, 6]])\n",
    "array2"
   ]
  },
  {
   "cell_type": "code",
   "execution_count": 12,
   "id": "ddd5b7be-c0fd-45e9-8442-8d61ac15eafe",
   "metadata": {},
   "outputs": [
    {
     "data": {
      "text/plain": [
       "array([ 0,  2,  4,  6,  8, 10, 12, 14, 16, 18])"
      ]
     },
     "execution_count": 12,
     "metadata": {},
     "output_type": "execute_result"
    }
   ],
   "source": [
    "array3 = np.arange(0, 20, 2)\n",
    "array3"
   ]
  },
  {
   "cell_type": "code",
   "execution_count": 13,
   "id": "a0347d08-69fa-4657-846c-d8e5409db222",
   "metadata": {},
   "outputs": [
    {
     "data": {
      "text/plain": [
       "array([-1. , -0.8, -0.6, -0.4, -0.2,  0. ,  0.2,  0.4,  0.6,  0.8,  1. ])"
      ]
     },
     "execution_count": 13,
     "metadata": {},
     "output_type": "execute_result"
    }
   ],
   "source": [
    "array4 = np.linspace(-1, 1, 11)\n",
    "array4"
   ]
  },
  {
   "cell_type": "code",
   "execution_count": 14,
   "id": "77c12e45-f7bd-419c-aec3-335502736691",
   "metadata": {},
   "outputs": [
    {
     "data": {
      "text/plain": [
       "array([   2.,    4.,    8.,   16.,   32.,   64.,  128.,  256.,  512.,\n",
       "       1024.])"
      ]
     },
     "execution_count": 14,
     "metadata": {},
     "output_type": "execute_result"
    }
   ],
   "source": [
    "array5 = np.logspace(1, 10, num=10, base=2)\n",
    "array5"
   ]
  },
  {
   "cell_type": "code",
   "execution_count": 15,
   "id": "ba57d418-f0ea-43c1-9444-6db045c30a68",
   "metadata": {},
   "outputs": [
    {
     "ename": "SyntaxError",
     "evalue": "invalid non-printable character U+00A0 (1642623790.py, line 2)",
     "output_type": "error",
     "traceback": [
      "  \u001b[36mCell\u001b[39m\u001b[36m \u001b[39m\u001b[32mIn[15]\u001b[39m\u001b[32m, line 2\u001b[39m\n\u001b[31m    \u001b[39m\u001b[31marray6\u001b[39m\n          ^\n\u001b[31mSyntaxError\u001b[39m\u001b[31m:\u001b[39m invalid non-printable character U+00A0\n"
     ]
    }
   ],
   "source": [
    "array6 = np.fromstring('1, 2, 3, 4, 5', sep=',', dtype='i8')\n",
    "array6 "
   ]
  },
  {
   "cell_type": "code",
   "execution_count": 16,
   "id": "43b855ee-56a4-43ee-b750-07702bc2ae87",
   "metadata": {},
   "outputs": [
    {
     "ename": "SyntaxError",
     "evalue": "invalid non-printable character U+00A0 (1642623790.py, line 2)",
     "output_type": "error",
     "traceback": [
      "  \u001b[36mCell\u001b[39m\u001b[36m \u001b[39m\u001b[32mIn[16]\u001b[39m\u001b[32m, line 2\u001b[39m\n\u001b[31m    \u001b[39m\u001b[31marray6\u001b[39m\n          ^\n\u001b[31mSyntaxError\u001b[39m\u001b[31m:\u001b[39m invalid non-printable character U+00A0\n"
     ]
    }
   ],
   "source": [
    "array6 = np.fromstring('1, 2, 3, 4, 5', sep=',', dtype='i8')\n",
    "array6 "
   ]
  },
  {
   "cell_type": "code",
   "execution_count": 17,
   "id": "0684b9b4-689f-4d66-9f62-730f000e7682",
   "metadata": {},
   "outputs": [
    {
     "ename": "SyntaxError",
     "evalue": "invalid non-printable character U+00A0 (1642623790.py, line 2)",
     "output_type": "error",
     "traceback": [
      "  \u001b[36mCell\u001b[39m\u001b[36m \u001b[39m\u001b[32mIn[17]\u001b[39m\u001b[32m, line 2\u001b[39m\n\u001b[31m    \u001b[39m\u001b[31marray6\u001b[39m\n          ^\n\u001b[31mSyntaxError\u001b[39m\u001b[31m:\u001b[39m invalid non-printable character U+00A0\n"
     ]
    }
   ],
   "source": [
    "array6 = np.fromstring('1, 2, 3, 4, 5', sep=',', dtype='i8')\n",
    "array6 "
   ]
  },
  {
   "cell_type": "code",
   "execution_count": 18,
   "id": "7b690ee6-5233-494a-aa1b-525b75d45b15",
   "metadata": {},
   "outputs": [
    {
     "data": {
      "text/plain": [
       "array([1, 2, 3, 4, 5])"
      ]
     },
     "execution_count": 18,
     "metadata": {},
     "output_type": "execute_result"
    }
   ],
   "source": [
    "array6 = np.fromstring('1, 2, 3, 4, 5', sep=',', dtype='i8')\n",
    "array6"
   ]
  },
  {
   "cell_type": "code",
   "execution_count": 19,
   "id": "ffedabf3-587c-44cc-becc-02ace4514e26",
   "metadata": {},
   "outputs": [
    {
     "data": {
      "text/plain": [
       "array([0.23716559, 0.95362489, 0.39597915, 0.43768999, 0.76323647,\n",
       "       0.59884776, 0.68949718, 0.13922939, 0.7503065 , 0.97359148])"
      ]
     },
     "execution_count": 19,
     "metadata": {},
     "output_type": "execute_result"
    }
   ],
   "source": [
    "array8 = np.random.rand(10)\n",
    "array8"
   ]
  },
  {
   "cell_type": "code",
   "execution_count": 20,
   "id": "63fff95b-de90-418f-ad1c-3c2247bd475c",
   "metadata": {},
   "outputs": [
    {
     "data": {
      "text/plain": [
       "array([86, 83, 25,  9,  1, 79, 97, 74, 69, 15], dtype=int32)"
      ]
     },
     "execution_count": 20,
     "metadata": {},
     "output_type": "execute_result"
    }
   ],
   "source": [
    "array9 = np.random.randint(1, 100, 10)\n",
    "array9"
   ]
  },
  {
   "cell_type": "code",
   "execution_count": 21,
   "id": "e8f39d35-8138-4929-bc2f-0eea79648e07",
   "metadata": {},
   "outputs": [
    {
     "data": {
      "text/plain": [
       "array([[0.4593804 , 0.1801804 , 0.84288652, 0.610675  ],\n",
       "       [0.78831286, 0.34234829, 0.13483823, 0.10064615],\n",
       "       [0.96649581, 0.58571729, 0.56959391, 0.47563071]])"
      ]
     },
     "execution_count": 21,
     "metadata": {},
     "output_type": "execute_result"
    }
   ],
   "source": [
    "array11 = np.random.rand(3, 4)\n",
    "array11"
   ]
  },
  {
   "cell_type": "code",
   "execution_count": 22,
   "id": "c8e711a2-4194-4518-adc6-996ef1aaa1ec",
   "metadata": {},
   "outputs": [
    {
     "data": {
      "text/plain": [
       "array([[0., 0., 0., 0.],\n",
       "       [0., 0., 0., 0.],\n",
       "       [0., 0., 0., 0.]])"
      ]
     },
     "execution_count": 22,
     "metadata": {},
     "output_type": "execute_result"
    }
   ],
   "source": [
    "array13 = np.zeros((3, 4))\n",
    "array13"
   ]
  },
  {
   "cell_type": "code",
   "execution_count": 23,
   "id": "65e766a8-73d6-4cd0-8a10-f0959db474d7",
   "metadata": {},
   "outputs": [
    {
     "data": {
      "text/plain": [
       "array([[1., 1., 1., 1.],\n",
       "       [1., 1., 1., 1.],\n",
       "       [1., 1., 1., 1.]])"
      ]
     },
     "execution_count": 23,
     "metadata": {},
     "output_type": "execute_result"
    }
   ],
   "source": [
    "array14 = np.ones((3, 4))\n",
    "array14"
   ]
  },
  {
   "cell_type": "code",
   "execution_count": 24,
   "id": "fd1d063b-13c6-4e06-b6aa-f7a7ce469e2c",
   "metadata": {},
   "outputs": [
    {
     "data": {
      "text/plain": [
       "array([[10, 10, 10, 10],\n",
       "       [10, 10, 10, 10],\n",
       "       [10, 10, 10, 10]])"
      ]
     },
     "execution_count": 24,
     "metadata": {},
     "output_type": "execute_result"
    }
   ],
   "source": [
    "array15 = np.full((3, 4), 10)\n",
    "array15"
   ]
  },
  {
   "cell_type": "code",
   "execution_count": 25,
   "id": "023bbadb-d6b3-4eca-a577-957f127619ed",
   "metadata": {},
   "outputs": [
    {
     "ename": "NameError",
     "evalue": "name 'array16' is not defined",
     "output_type": "error",
     "traceback": [
      "\u001b[31m---------------------------------------------------------------------------\u001b[39m",
      "\u001b[31mNameError\u001b[39m                                 Traceback (most recent call last)",
      "\u001b[36mCell\u001b[39m\u001b[36m \u001b[39m\u001b[32mIn[25]\u001b[39m\u001b[32m, line 3\u001b[39m\n\u001b[32m      1\u001b[39m array17 = np.arange(\u001b[32m1\u001b[39m, \u001b[32m100\u001b[39m, \u001b[32m2\u001b[39m)\n\u001b[32m      2\u001b[39m array18 = np.random.rand(\u001b[32m3\u001b[39m, \u001b[32m4\u001b[39m)\n\u001b[32m----> \u001b[39m\u001b[32m3\u001b[39m \u001b[38;5;28mprint\u001b[39m(\u001b[43marray16\u001b[49m.size)\n\u001b[32m      4\u001b[39m \u001b[38;5;28mprint\u001b[39m(array17.size)\n\u001b[32m      5\u001b[39m \u001b[38;5;28mprint\u001b[39m(array18.size)\n",
      "\u001b[31mNameError\u001b[39m: name 'array16' is not defined"
     ]
    }
   ],
   "source": [
    "array17 = np.arange(1, 100, 2)\n",
    "array18 = np.random.rand(3, 4)\n",
    "print(array16.size)\n",
    "print(array17.size)\n",
    "print(array18.size)"
   ]
  },
  {
   "cell_type": "code",
   "execution_count": 26,
   "id": "94b33a25-3f86-47b0-899f-f0112b608ab8",
   "metadata": {},
   "outputs": [
    {
     "name": "stdout",
     "output_type": "stream",
     "text": [
      "50\n",
      "12\n"
     ]
    }
   ],
   "source": [
    "array17 = np.arange(1, 100, 2)\n",
    "array18 = np.random.rand(3, 4)\n",
    "print(array17.size)\n",
    "print(array18.size)"
   ]
  },
  {
   "cell_type": "code",
   "execution_count": 27,
   "id": "1f551495-c29e-4133-b3ee-7515f9519e0d",
   "metadata": {},
   "outputs": [
    {
     "name": "stdout",
     "output_type": "stream",
     "text": [
      "(50,)\n",
      "(3, 4)\n"
     ]
    }
   ],
   "source": [
    "print(array17.shape)\n",
    "print(array18.shape)"
   ]
  },
  {
   "cell_type": "code",
   "execution_count": 28,
   "id": "73f89d98-3d34-4eb4-9f38-6d18bfb9ee25",
   "metadata": {},
   "outputs": [
    {
     "name": "stdout",
     "output_type": "stream",
     "text": [
      "int64\n",
      "float64\n"
     ]
    }
   ],
   "source": [
    "print(array17.dtype)\n",
    "print(array18.dtype)"
   ]
  },
  {
   "cell_type": "code",
   "execution_count": 29,
   "id": "136fe637-dd1a-4127-abad-9d1858158743",
   "metadata": {},
   "outputs": [
    {
     "name": "stdout",
     "output_type": "stream",
     "text": [
      "1\n",
      "2\n"
     ]
    }
   ],
   "source": [
    "print(array17.ndim)\n",
    "print(array18.ndim)"
   ]
  },
  {
   "cell_type": "code",
   "execution_count": 30,
   "id": "1cf94aaf-10ae-4454-a4da-51601d8c3b42",
   "metadata": {},
   "outputs": [
    {
     "data": {
      "text/plain": [
       "array([7, 8, 9])"
      ]
     },
     "execution_count": 30,
     "metadata": {},
     "output_type": "execute_result"
    }
   ],
   "source": [
    "array20 = np.array([[1, 2, 3], [4, 5, 6], [7, 8, 9]])\n",
    "array20[2]"
   ]
  },
  {
   "cell_type": "code",
   "execution_count": 31,
   "id": "eed07dda-c037-4852-bf3b-b046b198c680",
   "metadata": {},
   "outputs": [
    {
     "name": "stdout",
     "output_type": "stream",
     "text": [
      "1\n",
      "9\n"
     ]
    }
   ],
   "source": [
    "print(array20[0][0])\n",
    "print(array20[-1][-1])"
   ]
  },
  {
   "cell_type": "code",
   "execution_count": 32,
   "id": "58c9c7e7-ebfe-4a2b-871d-95136edbb93a",
   "metadata": {},
   "outputs": [
    {
     "name": "stdout",
     "output_type": "stream",
     "text": [
      " 驱动器 C 中的卷是 Local Disk\n",
      " 卷的序列号是 182F-3667\n",
      "\n",
      " C:\\Users\\liang\\codepark 的目录\n",
      "\n",
      "2025/08/08  15:33    <DIR>          .\n",
      "2025/08/08  15:04    <DIR>          ..\n",
      "2025/08/08  15:05    <DIR>          .ipynb_checkpoints\n",
      "2025/04/29  18:55    <DIR>          .pytest_cache\n",
      "2025/07/30  14:14    <DIR>          .vscode\n",
      "2025/08/07  10:32    <DIR>          python\n",
      "2025/08/08  15:33            18,149 Untitled.ipynb\n",
      "               1 个文件         18,149 字节\n",
      "               6 个目录 341,535,862,784 可用字节\n"
     ]
    }
   ],
   "source": [
    "%ls"
   ]
  },
  {
   "cell_type": "code",
   "execution_count": 33,
   "id": "8007db14-2f7e-4c1f-81c4-957eefc4b8a9",
   "metadata": {},
   "outputs": [
    {
     "name": "stdout",
     "output_type": "stream",
     "text": [
      "C:\\Users\\liang\\codepark\\python\n"
     ]
    }
   ],
   "source": [
    "%cd python"
   ]
  },
  {
   "cell_type": "code",
   "execution_count": 34,
   "id": "6b922539-de19-42f3-9573-9da9342ca42c",
   "metadata": {},
   "outputs": [
    {
     "name": "stdout",
     "output_type": "stream",
     "text": [
      " 驱动器 C 中的卷是 Local Disk\n",
      " 卷的序列号是 182F-3667\n",
      "\n",
      " C:\\Users\\liang\\codepark\\python 的目录\n",
      "\n",
      "2025/08/07  10:32    <DIR>          .\n",
      "2025/08/08  15:33    <DIR>          ..\n",
      "2025/08/07  10:32            53,248 .coverage\n",
      "2025/07/30  14:17    <DIR>          .pytest_cache\n",
      "2025/07/24  15:24    <DIR>          __pycache__\n",
      "2025/08/01  22:12           215,711 baidu.png\n",
      "2025/08/01  22:14            70,757 baidu_headless.png\n",
      "2025/08/03  22:07    <DIR>          MNIST\n",
      "2025/07/30  18:27               109 pytest.ini\n",
      "2025/08/08  14:31    <DIR>          src\n",
      "               4 个文件        339,825 字节\n",
      "               6 个目录 341,535,924,224 可用字节\n"
     ]
    }
   ],
   "source": [
    "%ls"
   ]
  },
  {
   "cell_type": "code",
   "execution_count": 35,
   "id": "01a0ff01-ef5f-44a7-b310-043be10f9e47",
   "metadata": {},
   "outputs": [
    {
     "ename": "AttributeError",
     "evalue": "module 'matplotlib' has no attribute 'imread'",
     "output_type": "error",
     "traceback": [
      "\u001b[31m---------------------------------------------------------------------------\u001b[39m",
      "\u001b[31mAttributeError\u001b[39m                            Traceback (most recent call last)",
      "\u001b[36mCell\u001b[39m\u001b[36m \u001b[39m\u001b[32mIn[35]\u001b[39m\u001b[32m, line 1\u001b[39m\n\u001b[32m----> \u001b[39m\u001b[32m1\u001b[39m baidu_image = \u001b[43mplt\u001b[49m\u001b[43m.\u001b[49m\u001b[43mimread\u001b[49m(\u001b[33m'\u001b[39m\u001b[33mbaidu.png\u001b[39m\u001b[33m'\u001b[39m)\n\u001b[32m      2\u001b[39m plt.imshow(baidu_image)\n",
      "\u001b[36mFile \u001b[39m\u001b[32m~\\AppData\\Local\\Programs\\Python\\Python313\\Lib\\site-packages\\matplotlib\\_api\\__init__.py:218\u001b[39m, in \u001b[36mcaching_module_getattr.<locals>.__getattr__\u001b[39m\u001b[34m(name)\u001b[39m\n\u001b[32m    216\u001b[39m \u001b[38;5;28;01mif\u001b[39;00m name \u001b[38;5;129;01min\u001b[39;00m props:\n\u001b[32m    217\u001b[39m     \u001b[38;5;28;01mreturn\u001b[39;00m props[name].\u001b[34m__get__\u001b[39m(instance)\n\u001b[32m--> \u001b[39m\u001b[32m218\u001b[39m \u001b[38;5;28;01mraise\u001b[39;00m \u001b[38;5;167;01mAttributeError\u001b[39;00m(\n\u001b[32m    219\u001b[39m     \u001b[33mf\u001b[39m\u001b[33m\"\u001b[39m\u001b[33mmodule \u001b[39m\u001b[38;5;132;01m{\u001b[39;00m\u001b[38;5;28mcls\u001b[39m.\u001b[34m__module__\u001b[39m\u001b[38;5;132;01m!r}\u001b[39;00m\u001b[33m has no attribute \u001b[39m\u001b[38;5;132;01m{\u001b[39;00mname\u001b[38;5;132;01m!r}\u001b[39;00m\u001b[33m\"\u001b[39m)\n",
      "\u001b[31mAttributeError\u001b[39m: module 'matplotlib' has no attribute 'imread'"
     ]
    }
   ],
   "source": [
    "baidu_image = plt.imread('baidu.png')\n",
    "plt.imshow(baidu_image)"
   ]
  },
  {
   "cell_type": "code",
   "execution_count": 1,
   "id": "9c56db62-004b-47d7-bc49-a741abe44382",
   "metadata": {},
   "outputs": [],
   "source": [
    "from PIL import Image"
   ]
  },
  {
   "cell_type": "code",
   "execution_count": 2,
   "id": "9c1037bf-8ca5-4fa6-807c-aec2fd90b6de",
   "metadata": {},
   "outputs": [
    {
     "name": "stdout",
     "output_type": "stream",
     "text": [
      " 驱动器 C 中的卷是 Local Disk\n",
      " 卷的序列号是 182F-3667\n",
      "\n",
      " C:\\Users\\liang\\codepark 的目录\n",
      "\n",
      "2025/08/08  15:36    <DIR>          .\n",
      "2025/08/08  15:04    <DIR>          ..\n",
      "2025/08/08  15:36    <DIR>          .ipynb_checkpoints\n",
      "2025/04/29  18:55    <DIR>          .pytest_cache\n",
      "2025/07/30  14:14    <DIR>          .vscode\n",
      "2025/08/07  10:32    <DIR>          python\n",
      "2025/08/08  15:35            22,603 Untitled.ipynb\n",
      "2025/08/08  15:36                72 Untitled1.ipynb\n",
      "               2 个文件         22,675 字节\n",
      "               6 个目录 341,555,064,832 可用字节\n"
     ]
    }
   ],
   "source": [
    "%ls"
   ]
  },
  {
   "cell_type": "code",
   "execution_count": 3,
   "id": "e8823d13-64fc-4da3-a106-7cedc641c99e",
   "metadata": {},
   "outputs": [
    {
     "name": "stdout",
     "output_type": "stream",
     "text": [
      "C:\\Users\\liang\\codepark\\python\n"
     ]
    }
   ],
   "source": [
    "%cd python"
   ]
  },
  {
   "cell_type": "code",
   "execution_count": 4,
   "id": "c45080c8-c160-4653-9f24-f64730deb0a4",
   "metadata": {},
   "outputs": [
    {
     "name": "stdout",
     "output_type": "stream",
     "text": [
      " 驱动器 C 中的卷是 Local Disk\n",
      " 卷的序列号是 182F-3667\n",
      "\n",
      " C:\\Users\\liang\\codepark\\python 的目录\n",
      "\n",
      "2025/08/07  10:32    <DIR>          .\n",
      "2025/08/08  15:36    <DIR>          ..\n",
      "2025/08/07  10:32            53,248 .coverage\n",
      "2025/07/30  14:17    <DIR>          .pytest_cache\n",
      "2025/07/24  15:24    <DIR>          __pycache__\n",
      "2025/08/01  22:12           215,711 baidu.png\n",
      "2025/08/01  22:14            70,757 baidu_headless.png\n",
      "2025/08/03  22:07    <DIR>          MNIST\n",
      "2025/07/30  18:27               109 pytest.ini\n",
      "2025/08/08  14:31    <DIR>          src\n",
      "               4 个文件        339,825 字节\n",
      "               6 个目录 341,555,064,832 可用字节\n"
     ]
    }
   ],
   "source": [
    "%ls"
   ]
  },
  {
   "cell_type": "code",
   "execution_count": 5,
   "id": "cd6044e3-de79-4e26-bdf8-e03bbe29afc2",
   "metadata": {},
   "outputs": [],
   "source": [
    "img = Image.open(\"baidu.png\")"
   ]
  },
  {
   "cell_type": "code",
   "execution_count": 6,
   "id": "af8066b2-499c-4bb3-b7f9-f83cea98957f",
   "metadata": {},
   "outputs": [],
   "source": [
    "img.show()"
   ]
  },
  {
   "cell_type": "code",
   "execution_count": null,
   "id": "b3f0ec84-3aa7-456a-adca-8917072a368e",
   "metadata": {},
   "outputs": [],
   "source": [
    "img."
   ]
  }
 ],
 "metadata": {
  "kernelspec": {
   "display_name": "Python 3 (ipykernel)",
   "language": "python",
   "name": "python3"
  },
  "language_info": {
   "codemirror_mode": {
    "name": "ipython",
    "version": 3
   },
   "file_extension": ".py",
   "mimetype": "text/x-python",
   "name": "python",
   "nbconvert_exporter": "python",
   "pygments_lexer": "ipython3",
   "version": "3.13.3"
  }
 },
 "nbformat": 4,
 "nbformat_minor": 5
}
